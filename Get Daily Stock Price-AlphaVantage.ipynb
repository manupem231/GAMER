{
 "cells": [
  {
   "cell_type": "code",
   "execution_count": 1,
   "metadata": {},
   "outputs": [],
   "source": [
    "import datetime\n",
    "import pandas as pd\n",
    "import numpy as np\n",
    "\n"
   ]
  },
  {
   "cell_type": "code",
   "execution_count": 2,
   "metadata": {
    "scrolled": true
   },
   "outputs": [],
   "source": [
    "from alpha_vantage.timeseries import TimeSeries\n",
    "alphavantage_api_key = 'LHSF13XCYF6MXI3J'\n",
    "ts = TimeSeries(key= alphavantage_api_key, output_format='pandas')\n",
    "\n"
   ]
  },
  {
   "cell_type": "markdown",
   "metadata": {},
   "source": [
    "## Function: Get Stock Price from AlphaVantage"
   ]
  },
  {
   "cell_type": "code",
   "execution_count": 34,
   "metadata": {
    "collapsed": true
   },
   "outputs": [],
   "source": [
    "data, meta_data = ts.get_daily(symbol='USO', outputsize='compact')\n",
    "data = data.reset_index()\n",
    "price = data.loc[data.date == '2017-01-10','4. close']"
   ]
  },
  {
   "cell_type": "code",
   "execution_count": 42,
   "metadata": {},
   "outputs": [],
   "source": [
    "def get_price(ticker,date):\n",
    "    try:\n",
    "        data, meta_data = ts.get_daily(symbol=ticker, outputsize='compact')\n",
    "        data = data.reset_index()\n",
    "        price = data.loc[data.date == date,'4. close']\n",
    "        return price[0]\n",
    "    except:\n",
    "        pass\n"
   ]
  },
  {
   "cell_type": "code",
   "execution_count": 43,
   "metadata": {
    "scrolled": true
   },
   "outputs": [
    {
     "data": {
      "text/html": [
       "<div>\n",
       "<table border=\"1\" class=\"dataframe\">\n",
       "  <thead>\n",
       "    <tr style=\"text-align: right;\">\n",
       "      <th></th>\n",
       "      <th>Unnamed: 0</th>\n",
       "      <th>Date</th>\n",
       "      <th>Media Sources</th>\n",
       "      <th>Negative</th>\n",
       "      <th>Neutral</th>\n",
       "      <th>Positive</th>\n",
       "      <th>Source Account</th>\n",
       "      <th>Tweet Polarity</th>\n",
       "      <th>Tweets Ago</th>\n",
       "    </tr>\n",
       "  </thead>\n",
       "  <tbody>\n",
       "    <tr>\n",
       "      <th>0</th>\n",
       "      <td>0</td>\n",
       "      <td>2017-01-10</td>\n",
       "      <td>@OPECnews</td>\n",
       "      <td>0.000</td>\n",
       "      <td>1.000</td>\n",
       "      <td>0.000</td>\n",
       "      <td>GasBuddy</td>\n",
       "      <td>0.0000</td>\n",
       "      <td>1</td>\n",
       "    </tr>\n",
       "    <tr>\n",
       "      <th>1</th>\n",
       "      <td>270</td>\n",
       "      <td>2017-10-07</td>\n",
       "      <td>@Shell</td>\n",
       "      <td>0.232</td>\n",
       "      <td>0.674</td>\n",
       "      <td>0.094</td>\n",
       "      <td>Richard Brooks</td>\n",
       "      <td>-0.5719</td>\n",
       "      <td>91</td>\n",
       "    </tr>\n",
       "  </tbody>\n",
       "</table>\n",
       "</div>"
      ],
      "text/plain": [
       "   Unnamed: 0        Date Media Sources  Negative  Neutral  Positive  \\\n",
       "0           0  2017-01-10     @OPECnews     0.000    1.000     0.000   \n",
       "1         270  2017-10-07        @Shell     0.232    0.674     0.094   \n",
       "\n",
       "   Source Account  Tweet Polarity  Tweets Ago  \n",
       "0        GasBuddy          0.0000           1  \n",
       "1  Richard Brooks         -0.5719          91  "
      ]
     },
     "execution_count": 43,
     "metadata": {},
     "output_type": "execute_result"
    }
   ],
   "source": [
    "csv_path = \"Oil Company Tweet Data_date_mod.csv\"\n",
    "df = pd.read_csv(csv_path, encoding='ISO-8859-1')\n",
    "\n",
    "df.head()"
   ]
  },
  {
   "cell_type": "code",
   "execution_count": 45,
   "metadata": {},
   "outputs": [
    {
     "data": {
      "text/plain": [
       "array(['@OPECnews', '@Shell'], dtype=object)"
      ]
     },
     "execution_count": 45,
     "metadata": {},
     "output_type": "execute_result"
    }
   ],
   "source": [
    "df['Media Sources'].unique()"
   ]
  },
  {
   "cell_type": "markdown",
   "metadata": {},
   "source": [
    "## Map Media Source to Ticker to later Retrieve Stock Price"
   ]
  },
  {
   "cell_type": "code",
   "execution_count": 46,
   "metadata": {
    "collapsed": true
   },
   "outputs": [],
   "source": [
    "oil_ticker = {'@Shell': 'AAPL',\n",
    "             '@OPECnews': 'USO',\n",
    "             '@exxonmobil':'XOM'}"
   ]
  },
  {
   "cell_type": "markdown",
   "metadata": {},
   "source": [
    "## Get Stock Ticker in order to retrieve Price"
   ]
  },
  {
   "cell_type": "code",
   "execution_count": 47,
   "metadata": {
    "collapsed": true,
    "scrolled": true
   },
   "outputs": [],
   "source": [
    "df['Ticker'] = [oil_ticker[x] for x in df['Media Sources']]"
   ]
  },
  {
   "cell_type": "code",
   "execution_count": 49,
   "metadata": {
    "scrolled": false
   },
   "outputs": [
    {
     "data": {
      "text/html": [
       "<div>\n",
       "<table border=\"1\" class=\"dataframe\">\n",
       "  <thead>\n",
       "    <tr style=\"text-align: right;\">\n",
       "      <th></th>\n",
       "      <th>Unnamed: 0</th>\n",
       "      <th>Date</th>\n",
       "      <th>Media Sources</th>\n",
       "      <th>Negative</th>\n",
       "      <th>Neutral</th>\n",
       "      <th>Positive</th>\n",
       "      <th>Source Account</th>\n",
       "      <th>Tweet Polarity</th>\n",
       "      <th>Tweets Ago</th>\n",
       "      <th>Ticker</th>\n",
       "    </tr>\n",
       "  </thead>\n",
       "  <tbody>\n",
       "    <tr>\n",
       "      <th>0</th>\n",
       "      <td>0</td>\n",
       "      <td>2017-01-10</td>\n",
       "      <td>@OPECnews</td>\n",
       "      <td>0.000</td>\n",
       "      <td>1.000</td>\n",
       "      <td>0.000</td>\n",
       "      <td>GasBuddy</td>\n",
       "      <td>0.0000</td>\n",
       "      <td>1</td>\n",
       "      <td>USO</td>\n",
       "    </tr>\n",
       "    <tr>\n",
       "      <th>1</th>\n",
       "      <td>270</td>\n",
       "      <td>2017-10-07</td>\n",
       "      <td>@Shell</td>\n",
       "      <td>0.232</td>\n",
       "      <td>0.674</td>\n",
       "      <td>0.094</td>\n",
       "      <td>Richard Brooks</td>\n",
       "      <td>-0.5719</td>\n",
       "      <td>91</td>\n",
       "      <td>AAPL</td>\n",
       "    </tr>\n",
       "  </tbody>\n",
       "</table>\n",
       "</div>"
      ],
      "text/plain": [
       "   Unnamed: 0        Date Media Sources  Negative  Neutral  Positive  \\\n",
       "0           0  2017-01-10     @OPECnews     0.000    1.000     0.000   \n",
       "1         270  2017-10-07        @Shell     0.232    0.674     0.094   \n",
       "\n",
       "   Source Account  Tweet Polarity  Tweets Ago Ticker  \n",
       "0        GasBuddy          0.0000           1    USO  \n",
       "1  Richard Brooks         -0.5719          91   AAPL  "
      ]
     },
     "execution_count": 49,
     "metadata": {},
     "output_type": "execute_result"
    }
   ],
   "source": [
    "df.head()"
   ]
  },
  {
   "cell_type": "markdown",
   "metadata": {},
   "source": [
    "## Get Stock Price (Ticker, Date)"
   ]
  },
  {
   "cell_type": "code",
   "execution_count": 21,
   "metadata": {
    "scrolled": true
   },
   "outputs": [
    {
     "data": {
      "text/html": [
       "<div>\n",
       "<table border=\"1\" class=\"dataframe\">\n",
       "  <thead>\n",
       "    <tr style=\"text-align: right;\">\n",
       "      <th></th>\n",
       "      <th>Unnamed: 0</th>\n",
       "      <th>Date</th>\n",
       "      <th>Media Sources</th>\n",
       "      <th>Negative</th>\n",
       "      <th>Neutral</th>\n",
       "      <th>Positive</th>\n",
       "      <th>Source Account</th>\n",
       "      <th>Tweet Polarity</th>\n",
       "      <th>Tweets Ago</th>\n",
       "      <th>Ticker</th>\n",
       "      <th>Price</th>\n",
       "    </tr>\n",
       "  </thead>\n",
       "  <tbody>\n",
       "    <tr>\n",
       "      <th>0</th>\n",
       "      <td>0</td>\n",
       "      <td>2017-01-10</td>\n",
       "      <td>@OPECnews</td>\n",
       "      <td>0.000</td>\n",
       "      <td>1.000</td>\n",
       "      <td>0.000</td>\n",
       "      <td>GasBuddy</td>\n",
       "      <td>0.0000</td>\n",
       "      <td>1</td>\n",
       "      <td>USO</td>\n",
       "      <td>None</td>\n",
       "    </tr>\n",
       "    <tr>\n",
       "      <th>1</th>\n",
       "      <td>270</td>\n",
       "      <td>2017-10-07</td>\n",
       "      <td>@Shell</td>\n",
       "      <td>0.232</td>\n",
       "      <td>0.674</td>\n",
       "      <td>0.094</td>\n",
       "      <td>Richard Brooks</td>\n",
       "      <td>-0.5719</td>\n",
       "      <td>91</td>\n",
       "      <td>AAPL</td>\n",
       "      <td>None</td>\n",
       "    </tr>\n",
       "  </tbody>\n",
       "</table>\n",
       "</div>"
      ],
      "text/plain": [
       "   Unnamed: 0        Date Media Sources  Negative  Neutral  Positive  \\\n",
       "0           0  2017-01-10     @OPECnews     0.000    1.000     0.000   \n",
       "1         270  2017-10-07        @Shell     0.232    0.674     0.094   \n",
       "\n",
       "   Source Account  Tweet Polarity  Tweets Ago Ticker Price  \n",
       "0        GasBuddy          0.0000           1    USO  None  \n",
       "1  Richard Brooks         -0.5719          91   AAPL  None  "
      ]
     },
     "execution_count": 21,
     "metadata": {},
     "output_type": "execute_result"
    }
   ],
   "source": [
    "df['Price'] = df.apply(lambda x: get_price(x['Ticker'],x['Date']), axis=1)\n",
    "df.head()"
   ]
  },
  {
   "cell_type": "code",
   "execution_count": null,
   "metadata": {
    "collapsed": true
   },
   "outputs": [],
   "source": []
  }
 ],
 "metadata": {
  "kernelspec": {
   "display_name": "Python 3",
   "language": "python",
   "name": "python3"
  },
  "language_info": {
   "codemirror_mode": {
    "name": "ipython",
    "version": 3
   },
   "file_extension": ".py",
   "mimetype": "text/x-python",
   "name": "python",
   "nbconvert_exporter": "python",
   "pygments_lexer": "ipython3",
   "version": "3.6.3"
  }
 },
 "nbformat": 4,
 "nbformat_minor": 2
}
