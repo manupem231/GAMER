{
 "cells": [
  {
   "cell_type": "code",
   "execution_count": 1,
   "metadata": {
    "collapsed": true
   },
   "outputs": [],
   "source": [
    "import datetime\n",
    "import pandas as pd\n",
    "import numpy as np\n",
    "\n"
   ]
  },
  {
   "cell_type": "code",
   "execution_count": 2,
   "metadata": {
    "collapsed": true,
    "scrolled": true
   },
   "outputs": [],
   "source": [
    "from alpha_vantage.timeseries import TimeSeries\n",
    "alphavantage_api_key = 'LHSF13XCYF6MXI3J'\n",
    "ts = TimeSeries(key= alphavantage_api_key, output_format='pandas')\n",
    "\n"
   ]
  },
  {
   "cell_type": "markdown",
   "metadata": {},
   "source": [
    "## Function: Get Stock Price from AlphaVantage"
   ]
  },
  {
   "cell_type": "code",
   "execution_count": 3,
   "metadata": {
    "collapsed": true
   },
   "outputs": [],
   "source": [
    "def get_price_array(ticker):\n",
    "    try:\n",
    "        data, meta_data = ts.get_daily(symbol=ticker, outputsize='compact')\n",
    "        data = data.reset_index()\n",
    "        data['Ticker'] = ticker\n",
    "        return data\n",
    "    except:\n",
    "        pass"
   ]
  },
  {
   "cell_type": "markdown",
   "metadata": {},
   "source": [
    "## Load Oil Sentiment Data"
   ]
  },
  {
   "cell_type": "code",
   "execution_count": 4,
   "metadata": {
    "scrolled": true
   },
   "outputs": [
    {
     "data": {
      "text/html": [
       "<div>\n",
       "<table border=\"1\" class=\"dataframe\">\n",
       "  <thead>\n",
       "    <tr style=\"text-align: right;\">\n",
       "      <th></th>\n",
       "      <th>Unnamed: 0</th>\n",
       "      <th>Date</th>\n",
       "      <th>Media Sources</th>\n",
       "      <th>Tweet Polarity</th>\n",
       "    </tr>\n",
       "  </thead>\n",
       "  <tbody>\n",
       "    <tr>\n",
       "      <th>0</th>\n",
       "      <td>0</td>\n",
       "      <td>2018-01-03</td>\n",
       "      <td>@MarathonPetroCo</td>\n",
       "      <td>0.23845</td>\n",
       "    </tr>\n",
       "    <tr>\n",
       "      <th>1</th>\n",
       "      <td>1</td>\n",
       "      <td>2018-01-04</td>\n",
       "      <td>@DevonEnergy</td>\n",
       "      <td>-0.09200</td>\n",
       "    </tr>\n",
       "    <tr>\n",
       "      <th>2</th>\n",
       "      <td>2</td>\n",
       "      <td>2018-01-04</td>\n",
       "      <td>@MarathonPetroCo</td>\n",
       "      <td>0.21230</td>\n",
       "    </tr>\n",
       "    <tr>\n",
       "      <th>3</th>\n",
       "      <td>3</td>\n",
       "      <td>2018-01-04</td>\n",
       "      <td>@OPECnews</td>\n",
       "      <td>0.49390</td>\n",
       "    </tr>\n",
       "    <tr>\n",
       "      <th>4</th>\n",
       "      <td>4</td>\n",
       "      <td>2018-01-05</td>\n",
       "      <td>@DevonEnergy</td>\n",
       "      <td>-0.27870</td>\n",
       "    </tr>\n",
       "  </tbody>\n",
       "</table>\n",
       "</div>"
      ],
      "text/plain": [
       "   Unnamed: 0        Date     Media Sources  Tweet Polarity\n",
       "0           0  2018-01-03  @MarathonPetroCo         0.23845\n",
       "1           1  2018-01-04      @DevonEnergy        -0.09200\n",
       "2           2  2018-01-04  @MarathonPetroCo         0.21230\n",
       "3           3  2018-01-04         @OPECnews         0.49390\n",
       "4           4  2018-01-05      @DevonEnergy        -0.27870"
      ]
     },
     "execution_count": 4,
     "metadata": {},
     "output_type": "execute_result"
    }
   ],
   "source": [
    "csv_path = \"Oil_Company_Tweet_Data_011318.csv\"\n",
    "df = pd.read_csv(csv_path, encoding='ISO-8859-1')\n",
    "\n",
    "df.head()"
   ]
  },
  {
   "cell_type": "code",
   "execution_count": 5,
   "metadata": {},
   "outputs": [
    {
     "data": {
      "text/plain": [
       "Index(['Unnamed: 0', 'Date', 'Media Sources', 'Tweet Polarity'], dtype='object')"
      ]
     },
     "execution_count": 5,
     "metadata": {},
     "output_type": "execute_result"
    }
   ],
   "source": [
    "df.columns"
   ]
  },
  {
   "cell_type": "markdown",
   "metadata": {},
   "source": [
    "## Map Media Source to Ticker to later Retrieve Stock Price"
   ]
  },
  {
   "cell_type": "code",
   "execution_count": 6,
   "metadata": {
    "collapsed": true
   },
   "outputs": [],
   "source": [
    "oil_ticker = {'@Shell': 'RDS.A ',\n",
    "             '@OPECnews': 'USO',\n",
    "              '@exxonmobil': 'XOM',\n",
    "             '@Chevron': 'CVX',\n",
    "              '@conocophillips': 'COP',\n",
    "             '@OXY_Petroleum': 'OXY',\n",
    "              '@ValeroEnergy': 'VLO',\n",
    "             '@Phillips66Co': 'PSX',\n",
    "              '@MarathonPetroCo': 'MPC',\n",
    "             '@DevonEnergy':'DVN'}"
   ]
  },
  {
   "cell_type": "markdown",
   "metadata": {},
   "source": [
    "## Get Stock Ticker in order to retrieve Price"
   ]
  },
  {
   "cell_type": "code",
   "execution_count": 7,
   "metadata": {
    "collapsed": true,
    "scrolled": true
   },
   "outputs": [],
   "source": [
    "df['Ticker'] = [oil_ticker[x] for x in df['Media Sources']]"
   ]
  },
  {
   "cell_type": "code",
   "execution_count": 8,
   "metadata": {
    "scrolled": true
   },
   "outputs": [
    {
     "data": {
      "text/plain": [
       "['MPC', 'DVN', 'USO', 'OXY', 'VLO', 'PSX', 'COP', 'CVX', 'RDS.A ', 'XOM']"
      ]
     },
     "execution_count": 8,
     "metadata": {},
     "output_type": "execute_result"
    }
   ],
   "source": [
    "ticker_list = list(df.Ticker.unique())\n",
    "ticker_list"
   ]
  },
  {
   "cell_type": "markdown",
   "metadata": {},
   "source": [
    "## Generate Stock Prices Chart"
   ]
  },
  {
   "cell_type": "code",
   "execution_count": 9,
   "metadata": {},
   "outputs": [],
   "source": [
    "stock_df = pd.DataFrame({})\n",
    "for ticker in ticker_list:\n",
    "    temp_df = (get_price_array(ticker))\n",
    "    stock_df = stock_df.append(temp_df, ignore_index=True)\n"
   ]
  },
  {
   "cell_type": "code",
   "execution_count": 10,
   "metadata": {},
   "outputs": [
    {
     "data": {
      "text/html": [
       "<div>\n",
       "<table border=\"1\" class=\"dataframe\">\n",
       "  <thead>\n",
       "    <tr style=\"text-align: right;\">\n",
       "      <th></th>\n",
       "      <th>date</th>\n",
       "      <th>1. open</th>\n",
       "      <th>2. high</th>\n",
       "      <th>3. low</th>\n",
       "      <th>4. close</th>\n",
       "      <th>5. volume</th>\n",
       "      <th>Ticker</th>\n",
       "    </tr>\n",
       "  </thead>\n",
       "  <tbody>\n",
       "    <tr>\n",
       "      <th>895</th>\n",
       "      <td>2018-01-08</td>\n",
       "      <td>86.70</td>\n",
       "      <td>87.15</td>\n",
       "      <td>86.6034</td>\n",
       "      <td>87.14</td>\n",
       "      <td>10549116.0</td>\n",
       "      <td>XOM</td>\n",
       "    </tr>\n",
       "    <tr>\n",
       "      <th>896</th>\n",
       "      <td>2018-01-09</td>\n",
       "      <td>86.94</td>\n",
       "      <td>87.15</td>\n",
       "      <td>86.6500</td>\n",
       "      <td>86.77</td>\n",
       "      <td>7870756.0</td>\n",
       "      <td>XOM</td>\n",
       "    </tr>\n",
       "    <tr>\n",
       "      <th>897</th>\n",
       "      <td>2018-01-10</td>\n",
       "      <td>87.00</td>\n",
       "      <td>87.19</td>\n",
       "      <td>85.9800</td>\n",
       "      <td>86.08</td>\n",
       "      <td>10624415.0</td>\n",
       "      <td>XOM</td>\n",
       "    </tr>\n",
       "    <tr>\n",
       "      <th>898</th>\n",
       "      <td>2018-01-11</td>\n",
       "      <td>86.36</td>\n",
       "      <td>87.37</td>\n",
       "      <td>85.9300</td>\n",
       "      <td>86.93</td>\n",
       "      <td>14358191.0</td>\n",
       "      <td>XOM</td>\n",
       "    </tr>\n",
       "    <tr>\n",
       "      <th>899</th>\n",
       "      <td>2018-01-12</td>\n",
       "      <td>87.20</td>\n",
       "      <td>87.99</td>\n",
       "      <td>87.1800</td>\n",
       "      <td>87.52</td>\n",
       "      <td>9833776.0</td>\n",
       "      <td>XOM</td>\n",
       "    </tr>\n",
       "  </tbody>\n",
       "</table>\n",
       "</div>"
      ],
      "text/plain": [
       "           date  1. open  2. high   3. low  4. close   5. volume Ticker\n",
       "895  2018-01-08    86.70    87.15  86.6034     87.14  10549116.0    XOM\n",
       "896  2018-01-09    86.94    87.15  86.6500     86.77   7870756.0    XOM\n",
       "897  2018-01-10    87.00    87.19  85.9800     86.08  10624415.0    XOM\n",
       "898  2018-01-11    86.36    87.37  85.9300     86.93  14358191.0    XOM\n",
       "899  2018-01-12    87.20    87.99  87.1800     87.52   9833776.0    XOM"
      ]
     },
     "execution_count": 10,
     "metadata": {},
     "output_type": "execute_result"
    }
   ],
   "source": [
    "stock_df.tail()"
   ]
  },
  {
   "cell_type": "code",
   "execution_count": 11,
   "metadata": {},
   "outputs": [
    {
     "data": {
      "text/plain": [
       "Index(['date', '1. open', '2. high', '3. low', '4. close', '5. volume',\n",
       "       'Ticker'],\n",
       "      dtype='object')"
      ]
     },
     "execution_count": 11,
     "metadata": {},
     "output_type": "execute_result"
    }
   ],
   "source": [
    "stock_df.columns"
   ]
  },
  {
   "cell_type": "code",
   "execution_count": 12,
   "metadata": {
    "collapsed": true,
    "scrolled": true
   },
   "outputs": [],
   "source": [
    "stock_df = stock_df.loc[:,['date', 'Ticker', '4. close']]"
   ]
  },
  {
   "cell_type": "code",
   "execution_count": 13,
   "metadata": {
    "collapsed": true
   },
   "outputs": [],
   "source": [
    "stock_df = stock_df.rename(columns={'4. close':'Price'})"
   ]
  },
  {
   "cell_type": "code",
   "execution_count": 14,
   "metadata": {},
   "outputs": [
    {
     "data": {
      "text/html": [
       "<div>\n",
       "<table border=\"1\" class=\"dataframe\">\n",
       "  <thead>\n",
       "    <tr style=\"text-align: right;\">\n",
       "      <th></th>\n",
       "      <th>date</th>\n",
       "      <th>Ticker</th>\n",
       "      <th>Price</th>\n",
       "    </tr>\n",
       "  </thead>\n",
       "  <tbody>\n",
       "    <tr>\n",
       "      <th>0</th>\n",
       "      <td>2017-08-22</td>\n",
       "      <td>MPC</td>\n",
       "      <td>49.67</td>\n",
       "    </tr>\n",
       "    <tr>\n",
       "      <th>1</th>\n",
       "      <td>2017-08-23</td>\n",
       "      <td>MPC</td>\n",
       "      <td>50.17</td>\n",
       "    </tr>\n",
       "    <tr>\n",
       "      <th>2</th>\n",
       "      <td>2017-08-24</td>\n",
       "      <td>MPC</td>\n",
       "      <td>51.13</td>\n",
       "    </tr>\n",
       "    <tr>\n",
       "      <th>3</th>\n",
       "      <td>2017-08-25</td>\n",
       "      <td>MPC</td>\n",
       "      <td>51.72</td>\n",
       "    </tr>\n",
       "    <tr>\n",
       "      <th>4</th>\n",
       "      <td>2017-08-28</td>\n",
       "      <td>MPC</td>\n",
       "      <td>52.52</td>\n",
       "    </tr>\n",
       "  </tbody>\n",
       "</table>\n",
       "</div>"
      ],
      "text/plain": [
       "         date Ticker  Price\n",
       "0  2017-08-22    MPC  49.67\n",
       "1  2017-08-23    MPC  50.17\n",
       "2  2017-08-24    MPC  51.13\n",
       "3  2017-08-25    MPC  51.72\n",
       "4  2017-08-28    MPC  52.52"
      ]
     },
     "execution_count": 14,
     "metadata": {},
     "output_type": "execute_result"
    }
   ],
   "source": [
    "stock_df.head()"
   ]
  },
  {
   "cell_type": "markdown",
   "metadata": {},
   "source": [
    "## To be Deleted"
   ]
  },
  {
   "cell_type": "code",
   "execution_count": null,
   "metadata": {
    "collapsed": true
   },
   "outputs": [],
   "source": [
    "grouped_df = df.groupby(['Date', \n",
    "                        'Tweet Polarity', \n",
    "                        'Ticker'])"
   ]
  },
  {
   "cell_type": "code",
   "execution_count": null,
   "metadata": {
    "collapsed": true
   },
   "outputs": [],
   "source": [
    "mean_df = grouped_df['Tweet Polarity'].mean()"
   ]
  },
  {
   "cell_type": "code",
   "execution_count": null,
   "metadata": {
    "collapsed": true
   },
   "outputs": [],
   "source": [
    "oil_df = pd.DataFrame(mean_df)\n",
    "oil_df = oil_df.drop('Tweet Polarity', axis=1)\n",
    "oil_df = oil_df.reset_index()"
   ]
  },
  {
   "cell_type": "code",
   "execution_count": null,
   "metadata": {
    "scrolled": false
   },
   "outputs": [],
   "source": [
    "oil_df.head()"
   ]
  },
  {
   "cell_type": "code",
   "execution_count": null,
   "metadata": {},
   "outputs": [],
   "source": [
    "oil_df.tail()"
   ]
  },
  {
   "cell_type": "markdown",
   "metadata": {},
   "source": [
    "## Get Stock Price for Oil Sentiment (Ticker, Date)"
   ]
  },
  {
   "cell_type": "code",
   "execution_count": 23,
   "metadata": {
    "collapsed": true,
    "scrolled": false
   },
   "outputs": [],
   "source": [
    "oil_sentiment_df = pd.merge(df, stock_df, left_on=['Date', 'Ticker'], right_on=['date', 'Ticker'], how='left')"
   ]
  },
  {
   "cell_type": "code",
   "execution_count": 24,
   "metadata": {
    "scrolled": true
   },
   "outputs": [
    {
     "data": {
      "text/html": [
       "<div>\n",
       "<table border=\"1\" class=\"dataframe\">\n",
       "  <thead>\n",
       "    <tr style=\"text-align: right;\">\n",
       "      <th></th>\n",
       "      <th>Unnamed: 0</th>\n",
       "      <th>Date</th>\n",
       "      <th>Media Sources</th>\n",
       "      <th>Tweet Polarity</th>\n",
       "      <th>Ticker</th>\n",
       "      <th>date</th>\n",
       "      <th>Price</th>\n",
       "    </tr>\n",
       "  </thead>\n",
       "  <tbody>\n",
       "    <tr>\n",
       "      <th>53</th>\n",
       "      <td>53</td>\n",
       "      <td>2018-01-13</td>\n",
       "      <td>@conocophillips</td>\n",
       "      <td>0.133917</td>\n",
       "      <td>COP</td>\n",
       "      <td>NaN</td>\n",
       "      <td>NaN</td>\n",
       "    </tr>\n",
       "    <tr>\n",
       "      <th>54</th>\n",
       "      <td>54</td>\n",
       "      <td>2018-01-13</td>\n",
       "      <td>@exxonmobil</td>\n",
       "      <td>0.129404</td>\n",
       "      <td>XOM</td>\n",
       "      <td>NaN</td>\n",
       "      <td>NaN</td>\n",
       "    </tr>\n",
       "    <tr>\n",
       "      <th>55</th>\n",
       "      <td>55</td>\n",
       "      <td>2018-01-14</td>\n",
       "      <td>@Chevron</td>\n",
       "      <td>0.000000</td>\n",
       "      <td>CVX</td>\n",
       "      <td>NaN</td>\n",
       "      <td>NaN</td>\n",
       "    </tr>\n",
       "    <tr>\n",
       "      <th>56</th>\n",
       "      <td>56</td>\n",
       "      <td>2018-01-14</td>\n",
       "      <td>@Shell</td>\n",
       "      <td>0.000000</td>\n",
       "      <td>RDS.A</td>\n",
       "      <td>NaN</td>\n",
       "      <td>NaN</td>\n",
       "    </tr>\n",
       "    <tr>\n",
       "      <th>57</th>\n",
       "      <td>57</td>\n",
       "      <td>2018-01-14</td>\n",
       "      <td>@exxonmobil</td>\n",
       "      <td>0.700300</td>\n",
       "      <td>XOM</td>\n",
       "      <td>NaN</td>\n",
       "      <td>NaN</td>\n",
       "    </tr>\n",
       "  </tbody>\n",
       "</table>\n",
       "</div>"
      ],
      "text/plain": [
       "    Unnamed: 0        Date    Media Sources  Tweet Polarity  Ticker date  \\\n",
       "53          53  2018-01-13  @conocophillips        0.133917     COP  NaN   \n",
       "54          54  2018-01-13      @exxonmobil        0.129404     XOM  NaN   \n",
       "55          55  2018-01-14         @Chevron        0.000000     CVX  NaN   \n",
       "56          56  2018-01-14           @Shell        0.000000  RDS.A   NaN   \n",
       "57          57  2018-01-14      @exxonmobil        0.700300     XOM  NaN   \n",
       "\n",
       "    Price  \n",
       "53    NaN  \n",
       "54    NaN  \n",
       "55    NaN  \n",
       "56    NaN  \n",
       "57    NaN  "
      ]
     },
     "execution_count": 24,
     "metadata": {},
     "output_type": "execute_result"
    }
   ],
   "source": [
    "oil_sentiment_df.tail()"
   ]
  },
  {
   "cell_type": "code",
   "execution_count": 25,
   "metadata": {
    "collapsed": true
   },
   "outputs": [],
   "source": [
    "oil_sentiment_df = oil_sentiment_df.dropna()"
   ]
  },
  {
   "cell_type": "code",
   "execution_count": 18,
   "metadata": {
    "collapsed": true
   },
   "outputs": [],
   "source": [
    "oil_sentiment_df.to_csv('oil_sentiment.csv', sep=',')"
   ]
  },
  {
   "cell_type": "code",
   "execution_count": 19,
   "metadata": {
    "collapsed": true
   },
   "outputs": [],
   "source": [
    "oil_sentiment_df = oil_sentiment_df.sort_values(by=['Ticker', 'Date'], ascending=[True, True], inplace=False)"
   ]
  },
  {
   "cell_type": "code",
   "execution_count": 26,
   "metadata": {
    "scrolled": true
   },
   "outputs": [
    {
     "data": {
      "text/html": [
       "<div>\n",
       "<table border=\"1\" class=\"dataframe\">\n",
       "  <thead>\n",
       "    <tr style=\"text-align: right;\">\n",
       "      <th></th>\n",
       "      <th>Unnamed: 0</th>\n",
       "      <th>Date</th>\n",
       "      <th>Media Sources</th>\n",
       "      <th>Tweet Polarity</th>\n",
       "      <th>Ticker</th>\n",
       "      <th>date</th>\n",
       "      <th>Price</th>\n",
       "    </tr>\n",
       "  </thead>\n",
       "  <tbody>\n",
       "    <tr>\n",
       "      <th>41</th>\n",
       "      <td>41</td>\n",
       "      <td>2018-01-12</td>\n",
       "      <td>@MarathonPetroCo</td>\n",
       "      <td>0.457400</td>\n",
       "      <td>MPC</td>\n",
       "      <td>2018-01-12</td>\n",
       "      <td>71.42</td>\n",
       "    </tr>\n",
       "    <tr>\n",
       "      <th>42</th>\n",
       "      <td>42</td>\n",
       "      <td>2018-01-12</td>\n",
       "      <td>@OPECnews</td>\n",
       "      <td>0.399600</td>\n",
       "      <td>USO</td>\n",
       "      <td>2018-01-12</td>\n",
       "      <td>12.87</td>\n",
       "    </tr>\n",
       "    <tr>\n",
       "      <th>43</th>\n",
       "      <td>43</td>\n",
       "      <td>2018-01-12</td>\n",
       "      <td>@Phillips66Co</td>\n",
       "      <td>0.395320</td>\n",
       "      <td>PSX</td>\n",
       "      <td>2018-01-12</td>\n",
       "      <td>104.97</td>\n",
       "    </tr>\n",
       "    <tr>\n",
       "      <th>44</th>\n",
       "      <td>44</td>\n",
       "      <td>2018-01-12</td>\n",
       "      <td>@ValeroEnergy</td>\n",
       "      <td>0.000000</td>\n",
       "      <td>VLO</td>\n",
       "      <td>2018-01-12</td>\n",
       "      <td>96.75</td>\n",
       "    </tr>\n",
       "    <tr>\n",
       "      <th>45</th>\n",
       "      <td>45</td>\n",
       "      <td>2018-01-12</td>\n",
       "      <td>@conocophillips</td>\n",
       "      <td>0.275221</td>\n",
       "      <td>COP</td>\n",
       "      <td>2018-01-12</td>\n",
       "      <td>60.05</td>\n",
       "    </tr>\n",
       "  </tbody>\n",
       "</table>\n",
       "</div>"
      ],
      "text/plain": [
       "    Unnamed: 0        Date     Media Sources  Tweet Polarity Ticker  \\\n",
       "41          41  2018-01-12  @MarathonPetroCo        0.457400    MPC   \n",
       "42          42  2018-01-12         @OPECnews        0.399600    USO   \n",
       "43          43  2018-01-12     @Phillips66Co        0.395320    PSX   \n",
       "44          44  2018-01-12     @ValeroEnergy        0.000000    VLO   \n",
       "45          45  2018-01-12   @conocophillips        0.275221    COP   \n",
       "\n",
       "          date   Price  \n",
       "41  2018-01-12   71.42  \n",
       "42  2018-01-12   12.87  \n",
       "43  2018-01-12  104.97  \n",
       "44  2018-01-12   96.75  \n",
       "45  2018-01-12   60.05  "
      ]
     },
     "execution_count": 26,
     "metadata": {},
     "output_type": "execute_result"
    }
   ],
   "source": [
    "oil_sentiment_df.tail()"
   ]
  },
  {
   "cell_type": "code",
   "execution_count": 39,
   "metadata": {},
   "outputs": [
    {
     "data": {
      "text/html": [
       "<div>\n",
       "<table border=\"1\" class=\"dataframe\">\n",
       "  <thead>\n",
       "    <tr style=\"text-align: right;\">\n",
       "      <th></th>\n",
       "      <th>Unnamed: 0</th>\n",
       "      <th>Date</th>\n",
       "      <th>Media Sources</th>\n",
       "      <th>Tweet Polarity</th>\n",
       "      <th>Ticker</th>\n",
       "      <th>date</th>\n",
       "      <th>Price</th>\n",
       "    </tr>\n",
       "  </thead>\n",
       "  <tbody>\n",
       "    <tr>\n",
       "      <th>1</th>\n",
       "      <td>1</td>\n",
       "      <td>2018-01-04</td>\n",
       "      <td>@DevonEnergy</td>\n",
       "      <td>-0.092000</td>\n",
       "      <td>DVN</td>\n",
       "      <td>2018-01-04</td>\n",
       "      <td>43.23</td>\n",
       "    </tr>\n",
       "    <tr>\n",
       "      <th>4</th>\n",
       "      <td>4</td>\n",
       "      <td>2018-01-05</td>\n",
       "      <td>@DevonEnergy</td>\n",
       "      <td>-0.278700</td>\n",
       "      <td>DVN</td>\n",
       "      <td>2018-01-05</td>\n",
       "      <td>43.11</td>\n",
       "    </tr>\n",
       "    <tr>\n",
       "      <th>17</th>\n",
       "      <td>17</td>\n",
       "      <td>2018-01-08</td>\n",
       "      <td>@DevonEnergy</td>\n",
       "      <td>0.457400</td>\n",
       "      <td>DVN</td>\n",
       "      <td>2018-01-08</td>\n",
       "      <td>43.25</td>\n",
       "    </tr>\n",
       "    <tr>\n",
       "      <th>21</th>\n",
       "      <td>21</td>\n",
       "      <td>2018-01-09</td>\n",
       "      <td>@DevonEnergy</td>\n",
       "      <td>0.537450</td>\n",
       "      <td>DVN</td>\n",
       "      <td>2018-01-09</td>\n",
       "      <td>42.54</td>\n",
       "    </tr>\n",
       "    <tr>\n",
       "      <th>27</th>\n",
       "      <td>27</td>\n",
       "      <td>2018-01-10</td>\n",
       "      <td>@DevonEnergy</td>\n",
       "      <td>0.629467</td>\n",
       "      <td>DVN</td>\n",
       "      <td>2018-01-10</td>\n",
       "      <td>42.18</td>\n",
       "    </tr>\n",
       "    <tr>\n",
       "      <th>34</th>\n",
       "      <td>34</td>\n",
       "      <td>2018-01-11</td>\n",
       "      <td>@DevonEnergy</td>\n",
       "      <td>0.785671</td>\n",
       "      <td>DVN</td>\n",
       "      <td>2018-01-11</td>\n",
       "      <td>43.07</td>\n",
       "    </tr>\n",
       "    <tr>\n",
       "      <th>40</th>\n",
       "      <td>40</td>\n",
       "      <td>2018-01-12</td>\n",
       "      <td>@DevonEnergy</td>\n",
       "      <td>0.605292</td>\n",
       "      <td>DVN</td>\n",
       "      <td>2018-01-12</td>\n",
       "      <td>44.04</td>\n",
       "    </tr>\n",
       "  </tbody>\n",
       "</table>\n",
       "</div>"
      ],
      "text/plain": [
       "    Unnamed: 0        Date Media Sources  Tweet Polarity Ticker        date  \\\n",
       "1            1  2018-01-04  @DevonEnergy       -0.092000    DVN  2018-01-04   \n",
       "4            4  2018-01-05  @DevonEnergy       -0.278700    DVN  2018-01-05   \n",
       "17          17  2018-01-08  @DevonEnergy        0.457400    DVN  2018-01-08   \n",
       "21          21  2018-01-09  @DevonEnergy        0.537450    DVN  2018-01-09   \n",
       "27          27  2018-01-10  @DevonEnergy        0.629467    DVN  2018-01-10   \n",
       "34          34  2018-01-11  @DevonEnergy        0.785671    DVN  2018-01-11   \n",
       "40          40  2018-01-12  @DevonEnergy        0.605292    DVN  2018-01-12   \n",
       "\n",
       "    Price  \n",
       "1   43.23  \n",
       "4   43.11  \n",
       "17  43.25  \n",
       "21  42.54  \n",
       "27  42.18  \n",
       "34  43.07  \n",
       "40  44.04  "
      ]
     },
     "execution_count": 39,
     "metadata": {},
     "output_type": "execute_result"
    }
   ],
   "source": [
    "oil_sentiment_df.reindex()\n",
    "oil_sentiment_df.loc[oil_sentiment_df.Ticker =='DVN']"
   ]
  },
  {
   "cell_type": "code",
   "execution_count": null,
   "metadata": {
    "collapsed": true
   },
   "outputs": [],
   "source": []
  }
 ],
 "metadata": {
  "kernelspec": {
   "display_name": "Python 3",
   "language": "python",
   "name": "python3"
  },
  "language_info": {
   "codemirror_mode": {
    "name": "ipython",
    "version": 3
   },
   "file_extension": ".py",
   "mimetype": "text/x-python",
   "name": "python",
   "nbconvert_exporter": "python",
   "pygments_lexer": "ipython3",
   "version": "3.6.3"
  }
 },
 "nbformat": 4,
 "nbformat_minor": 2
}
