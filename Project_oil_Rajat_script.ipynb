{
 "cells": [
  {
   "cell_type": "code",
   "execution_count": 1,
   "metadata": {},
   "outputs": [],
   "source": [
    "## Dependencies \n",
    "import json\n",
    "import pandas as pd\n",
    "import numpy as np\n",
    "import tweepy\n",
    "import requests as req\n",
    "from watson_developer_cloud import NaturalLanguageUnderstandingV1\n"
   ]
  },
  {
   "cell_type": "code",
   "execution_count": 7,
   "metadata": {
    "collapsed": true
   },
   "outputs": [],
   "source": [
    "## Get Authentication, Twitter requests, entering keys\n",
    "consumer_key=\"akczLSsb7D39rCQITi6HKKTbS\"\n",
    "consumer_secret=\"ZzlplKxUh1agPMHRjouqC1E3T6gdssATmU2e1kiFupNodEwmrH\"\n",
    "access_token=\"41056206-bpASiEYIYW7gti7fvZjm1ckaQfskqwMfUIDyfcGRQ\"\n",
    "access_token_secret=\"AYjW9Maj2nOELJ7LLEj6YrfXmVqjYWN0lBpX4ariTXED2\"\n",
    "auth = tweepy.OAuthHandler(consumer_key,consumer_secret)\n",
    "auth.set_access_token(access_token,access_token_secret)\n",
    "api=tweepy.API(auth)"
   ]
  },
  {
   "cell_type": "code",
   "execution_count": 2,
   "metadata": {},
   "outputs": [
    {
     "ename": "NameError",
     "evalue": "name 'watson_developer_cloud' is not defined",
     "output_type": "error",
     "traceback": [
      "\u001b[1;31m---------------------------------------------------------------------------\u001b[0m",
      "\u001b[1;31mNameError\u001b[0m                                 Traceback (most recent call last)",
      "\u001b[1;32m<ipython-input-2-529e8ffbb02a>\u001b[0m in \u001b[0;36m<module>\u001b[1;34m()\u001b[0m\n\u001b[0;32m      1\u001b[0m \u001b[1;33m\u001b[0m\u001b[0m\n\u001b[1;32m----> 2\u001b[1;33m nlu = watson_developer_cloud.NaturalLanguageUnderstandingV1(version='2017-02-27',\n\u001b[0m\u001b[0;32m      3\u001b[0m                                                             \u001b[0musername\u001b[0m\u001b[1;33m=\u001b[0m\u001b[1;34m'eead473e-d77e-4ab6-bbcf-48196a0cb3e6'\u001b[0m\u001b[1;33m,\u001b[0m\u001b[1;33m\u001b[0m\u001b[0m\n\u001b[0;32m      4\u001b[0m                                                             password='4e1sOJAWwIIB')\n",
      "\u001b[1;31mNameError\u001b[0m: name 'watson_developer_cloud' is not defined"
     ]
    }
   ],
   "source": [
    "\n",
    "nlu = watson_developer_cloud.NaturalLanguageUnderstandingV1(version='2017-02-27',\n",
    "                                                            username='eead473e-d77e-4ab6-bbcf-48196a0cb3e6',\n",
    "                                                            password='4e1sOJAWwIIB')"
   ]
  },
  {
   "cell_type": "code",
   "execution_count": 5,
   "metadata": {},
   "outputs": [],
   "source": [
    "## Defining dependencies \n",
    "import json\n",
    "import tweepy\n",
    "import pandas as pd\n",
    "from watson_developer_cloud import NaturalLanguageUnderstandingV1\n",
    "from watson_developer_cloud.natural_language_understanding_v1 import Features, EntitiesOptions, KeywordsOptions\n",
    "\n",
    "#nlu = watson_developer_cloud.NaturalLanguageUnderstandingV1(version='2017-02-27',\n",
    "                                                           # username='eead473e-d77e-4ab6-bbcf-48196a0cb3e6',\n",
    "                                                            #password='4e1sOJAWwIIB')"
   ]
  },
  {
   "cell_type": "code",
   "execution_count": 7,
   "metadata": {
    "collapsed": true
   },
   "outputs": [],
   "source": [
    "natural_language_understanding = NaturalLanguageUnderstandingV1(\n",
    "  username='eead473e-d77e-4ab6-bbcf-48196a0cb3e6',\n",
    "  password='4e1sOJAWwIIB',\n",
    "  version='2017-02-27')\n"
   ]
  },
  {
   "cell_type": "code",
   "execution_count": 8,
   "metadata": {},
   "outputs": [
    {
     "name": "stdout",
     "output_type": "stream",
     "text": [
      "{\n",
      "  \"usage\": {\n",
      "    \"text_units\": 1,\n",
      "    \"text_characters\": 140,\n",
      "    \"features\": 2\n",
      "  },\n",
      "  \"language\": \"en\",\n",
      "  \"keywords\": [\n",
      "    {\n",
      "      \"text\": \"American multinational technology\",\n",
      "      \"sentiment\": {\n",
      "        \"score\": 0.0,\n",
      "        \"label\": \"neutral\"\n",
      "      },\n",
      "      \"relevance\": 0.993518,\n",
      "      \"emotion\": {\n",
      "        \"sadness\": 0.085259,\n",
      "        \"joy\": 0.026169,\n",
      "        \"fear\": 0.02454,\n",
      "        \"disgust\": 0.088711,\n",
      "        \"anger\": 0.033078\n",
      "      }\n",
      "    },\n",
      "    {\n",
      "      \"text\": \"New York\",\n",
      "      \"sentiment\": {\n",
      "        \"score\": 0.0,\n",
      "        \"label\": \"neutral\"\n",
      "      },\n",
      "      \"relevance\": 0.613816,\n",
      "      \"emotion\": {\n",
      "        \"sadness\": 0.166741,\n",
      "        \"joy\": 0.228903,\n",
      "        \"fear\": 0.057987,\n",
      "        \"disgust\": 0.050965,\n",
      "        \"anger\": 0.054653\n",
      "      }\n",
      "    }\n",
      "  ],\n",
      "  \"entities\": [\n",
      "    {\n",
      "      \"type\": \"Company\",\n",
      "      \"text\": \"IBM\",\n",
      "      \"sentiment\": {\n",
      "        \"score\": 0.0,\n",
      "        \"label\": \"neutral\"\n",
      "      },\n",
      "      \"relevance\": 0.33,\n",
      "      \"emotion\": {\n",
      "        \"sadness\": 0.085259,\n",
      "        \"joy\": 0.026169,\n",
      "        \"fear\": 0.02454,\n",
      "        \"disgust\": 0.088711,\n",
      "        \"anger\": 0.033078\n",
      "      },\n",
      "      \"disambiguation\": {\n",
      "        \"subtype\": [\n",
      "          \"SoftwareLicense\",\n",
      "          \"OperatingSystemDeveloper\",\n",
      "          \"ProcessorManufacturer\",\n",
      "          \"SoftwareDeveloper\",\n",
      "          \"CompanyFounder\",\n",
      "          \"ProgrammingLanguageDesigner\",\n",
      "          \"ProgrammingLanguageDeveloper\"\n",
      "        ],\n",
      "        \"name\": \"IBM\",\n",
      "        \"dbpedia_resource\": \"http://dbpedia.org/resource/IBM\"\n",
      "      },\n",
      "      \"count\": 1\n",
      "    }\n",
      "  ]\n",
      "}\n"
     ]
    }
   ],
   "source": [
    "response = natural_language_understanding.analyze(\n",
    "  text='IBM is an American multinational technology company '\n",
    "       'headquartered in Armonk, New York, United States, '\n",
    "       'with operations in over 170 countries.',\n",
    "  features=Features(\n",
    "    entities=EntitiesOptions(\n",
    "      emotion=True,\n",
    "      sentiment=True,\n",
    "      limit=2),\n",
    "    keywords=KeywordsOptions(\n",
    "      emotion=True,\n",
    "      sentiment=True,\n",
    "      limit=2)))\n",
    "\n",
    "print(json.dumps(response, indent=2))"
   ]
  },
  {
   "cell_type": "code",
   "execution_count": null,
   "metadata": {
    "collapsed": true
   },
   "outputs": [],
   "source": []
  }
 ],
 "metadata": {
  "kernelspec": {
   "display_name": "Python 3",
   "language": "python",
   "name": "python3"
  },
  "language_info": {
   "codemirror_mode": {
    "name": "ipython",
    "version": 3
   },
   "file_extension": ".py",
   "mimetype": "text/x-python",
   "name": "python",
   "nbconvert_exporter": "python",
   "pygments_lexer": "ipython3",
   "version": "3.6.3"
  }
 },
 "nbformat": 4,
 "nbformat_minor": 2
}
