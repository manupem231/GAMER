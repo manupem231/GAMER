{
 "cells": [
  {
   "cell_type": "code",
   "execution_count": 1,
   "metadata": {
    "collapsed": true
   },
   "outputs": [],
   "source": [
    "import pandas as pd\n",
    "import requests as req\n",
    "import quandl\n",
    "import json"
   ]
  },
  {
   "cell_type": "code",
   "execution_count": 2,
   "metadata": {},
   "outputs": [
    {
     "name": "stdout",
     "output_type": "stream",
     "text": [
      "https://www.quandl.com/api/v3/datasets/EOD/XOM.json?api_key=_rP-iuDk6kjh_h24Fysz\n"
     ]
    }
   ],
   "source": [
    "#API_Key:\"_rP-iuDk6kjh_h24Fysz\"\n",
    "quandl.ApiConfig.api_key = \"_rP-iuDk6kjh_h24Fysz\"\n",
    "\n",
    "# URL by single ticker (\"/EOD/XOM\"). Remove ticker to run URL dataset (datasets.json)\n",
    "url = \"https://www.quandl.com/api/v3/datasets/EOD/XOM.json?\"\n",
    "api_key = \"_rP-iuDk6kjh_h24Fysz\"\n",
    "\n",
    "query_url = url + \"api_key=\" + api_key\n",
    "\n",
    "print(query_url)"
   ]
  },
  {
   "cell_type": "code",
   "execution_count": null,
   "metadata": {},
   "outputs": [],
   "source": [
    "stock_data = []\n",
    "\n",
    "# Quandl Code tickers = [\"EOD/XOM\"(Exxon Mobil),\"BP/C02_EMMISSIONS_USA\"(BP_USA),\"EOD/CVX\"(Chevron),\"EIA/PET_RWTC_D\"(WTI),\n",
    "# \"EOD/RDS_A\" (Shell)\n",
    "tickers = [\"BP/C02_EMMISSIONS_USA\",\"EOD/XOM\",\"EOD/CVX\",\"EIA/PET_RWT_D\",\"EOD/RDS_A\"]\n",
    "\n",
    "#api_key = \"_rP-iuDk6kjh_h24Fysz\"\n",
    "#url1 = url + \"&api_key=\" + api_key\n",
    "\n",
    "# Looping through the list of tickers and perform a request for data on each.\n",
    "for ticker in tickers:\n",
    "    response = req.get(query_url + ticker).json()\n",
    "    stock_data.append(response)\n",
    "\n",
    "print(stock_data)"
   ]
  },
  {
   "cell_type": "code",
   "execution_count": null,
   "metadata": {
    "collapsed": true
   },
   "outputs": [],
   "source": [
    "# Extracting data from responses\n",
    "date_data = [data.get(\"dataset\").get(\"newest_available_date\") for data in stock_data]\n",
    "ticker_data = [data.get(\"dataset\").get(\"dataset_code\") for data in stock_data]\n",
    "price_data = [data.get(\"dataset\").get(\"stock_price\") for data in stock_data]\n",
    "\n",
    "stock_data = {\"Stock Price\": price_data, \"Ticker\": ticker_data, \"Date\": date_data}\n",
    "stock_data = pd.DataFrame(stock_data)\n",
    "stock_data"
   ]
  },
  {
   "cell_type": "code",
   "execution_count": null,
   "metadata": {
    "collapsed": true
   },
   "outputs": [],
   "source": [
    "# Testing URL by a single ticker\n",
    "\n",
    "response = req.get(query_url).json()\n",
    "\n",
    "print(response)"
   ]
  }
 ],
 "metadata": {
  "kernelspec": {
   "display_name": "Python 3",
   "language": "python",
   "name": "python3"
  },
  "language_info": {
   "codemirror_mode": {
    "name": "ipython",
    "version": 3
   },
   "file_extension": ".py",
   "mimetype": "text/x-python",
   "name": "python",
   "nbconvert_exporter": "python",
   "pygments_lexer": "ipython3",
   "version": "3.6.2"
  }
 },
 "nbformat": 4,
 "nbformat_minor": 2
}
