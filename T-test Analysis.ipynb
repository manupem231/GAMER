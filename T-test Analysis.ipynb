{
 "cells": [
  {
   "cell_type": "markdown",
   "metadata": {},
   "source": [
    "## \"t-test\" Analysis"
   ]
  },
  {
   "cell_type": "markdown",
   "metadata": {},
   "source": [
    "### Objectives:\n",
    "\n",
    "* Explain the notion of hypothesis testing\n",
    "\n",
    "* Explain the purpose of t-test\n",
    "\n",
    "* Explain how to use the _p_-value to determine significance\n",
    "\n",
    "* Explain when to reject the null hypothesis, and what that rejection implies\n",
    "\n",
    "* Use scipy to run a t-test against two samples"
   ]
  },
  {
   "cell_type": "markdown",
   "metadata": {},
   "source": [
    "### Notes on t-test:\n",
    "\n",
    "- t-test (independent) is a statistical method to test a hypothesis about the difference between two populations (or between two treatments). Example, comparison between men and women.\n",
    "\n",
    "-  Student's t-test is also used for determining if two sample means represent the same population.\n",
    "\n",
    "\n",
    "\n",
    "- Null Hypothesis: There is no difference.\n",
    "\n",
    "- Alternative Hypothesis: There is a difference.\n",
    "\n",
    "\n",
    "- At the conculsion of the hypothesis test, we will decide either to:\n",
    "\n",
    "    a. Reject $H_0$: Conclude that the data indicate a significant difference between the two groups, OR\n",
    "    \n",
    "    b. Fail to reject $H_0$: The data does not provide sufficient evidence to conclude that the difference exists.\n",
    "    \n",
    "    \n",
    "### How to interpret p-values:\n",
    "\n",
    "- P-value is the calculated probability of finding the observed results, assuming the null hypothesis is true.\n",
    "\n",
    "- P > 0.10: No evidence against the null hypothesis. The data appear to be consistent with the null hypothesis.\n",
    "\n",
    "- 0.01 < P < 0.05: Moderate evidence against the null hypothesis in favor of the alternative.\n",
    "\n",
    "- P < 0.001: Very strong evidence against the null hypothesis in favor of the alternative."
   ]
  },
  {
   "cell_type": "code",
   "execution_count": 1,
   "metadata": {
    "collapsed": true
   },
   "outputs": [],
   "source": [
    "import tweepy\n",
    "import json\n",
    "import numpy as np\n",
    "import pandas as pd\n",
    "import matplotlib.pyplot as plt\n",
    "import seaborn as sns\n",
    "from textblob import TextBlob\n",
    "import time\n",
    "from datetime import datetime\n",
    "from scipy import stats"
   ]
  },
  {
   "cell_type": "code",
   "execution_count": 2,
   "metadata": {},
   "outputs": [
    {
     "data": {
      "text/html": [
       "<div>\n",
       "<style>\n",
       "    .dataframe thead tr:only-child th {\n",
       "        text-align: right;\n",
       "    }\n",
       "\n",
       "    .dataframe thead th {\n",
       "        text-align: left;\n",
       "    }\n",
       "\n",
       "    .dataframe tbody tr th {\n",
       "        vertical-align: top;\n",
       "    }\n",
       "</style>\n",
       "<table border=\"1\" class=\"dataframe\">\n",
       "  <thead>\n",
       "    <tr style=\"text-align: right;\">\n",
       "      <th></th>\n",
       "      <th>Date</th>\n",
       "      <th>Media Sources</th>\n",
       "      <th>Tweet Polarity</th>\n",
       "      <th>Ticker</th>\n",
       "      <th>Price</th>\n",
       "    </tr>\n",
       "  </thead>\n",
       "  <tbody>\n",
       "    <tr>\n",
       "      <th>0</th>\n",
       "      <td>2018-01-03</td>\n",
       "      <td>@MarathonPetroCo</td>\n",
       "      <td>0.23845</td>\n",
       "      <td>MPC</td>\n",
       "      <td>68.61</td>\n",
       "    </tr>\n",
       "    <tr>\n",
       "      <th>1</th>\n",
       "      <td>2018-01-04</td>\n",
       "      <td>@DevonEnergy</td>\n",
       "      <td>-0.09200</td>\n",
       "      <td>DVN</td>\n",
       "      <td>43.23</td>\n",
       "    </tr>\n",
       "    <tr>\n",
       "      <th>2</th>\n",
       "      <td>2018-01-04</td>\n",
       "      <td>@MarathonPetroCo</td>\n",
       "      <td>0.21230</td>\n",
       "      <td>MPC</td>\n",
       "      <td>68.68</td>\n",
       "    </tr>\n",
       "    <tr>\n",
       "      <th>3</th>\n",
       "      <td>2018-01-04</td>\n",
       "      <td>@OPECnews</td>\n",
       "      <td>0.49390</td>\n",
       "      <td>USO</td>\n",
       "      <td>12.37</td>\n",
       "    </tr>\n",
       "    <tr>\n",
       "      <th>4</th>\n",
       "      <td>2018-01-05</td>\n",
       "      <td>@DevonEnergy</td>\n",
       "      <td>-0.27870</td>\n",
       "      <td>DVN</td>\n",
       "      <td>43.11</td>\n",
       "    </tr>\n",
       "  </tbody>\n",
       "</table>\n",
       "</div>"
      ],
      "text/plain": [
       "         Date     Media Sources  Tweet Polarity Ticker  Price\n",
       "0  2018-01-03  @MarathonPetroCo         0.23845    MPC  68.61\n",
       "1  2018-01-04      @DevonEnergy        -0.09200    DVN  43.23\n",
       "2  2018-01-04  @MarathonPetroCo         0.21230    MPC  68.68\n",
       "3  2018-01-04         @OPECnews         0.49390    USO  12.37\n",
       "4  2018-01-05      @DevonEnergy        -0.27870    DVN  43.11"
      ]
     },
     "execution_count": 2,
     "metadata": {},
     "output_type": "execute_result"
    }
   ],
   "source": [
    "sentiment_stock_data = pd.read_csv(\"oil_sentiments_vs_prices.csv\")\n",
    "sentiment_stock_data = sentiment_stock_data[['Date', 'Media Sources', 'Tweet Polarity', 'Ticker', 'Price']]\n",
    "sentiment_stock_data.head()"
   ]
  },
  {
   "cell_type": "markdown",
   "metadata": {},
   "source": [
    "### Performing 't-test'"
   ]
  },
  {
   "cell_type": "code",
   "execution_count": 3,
   "metadata": {},
   "outputs": [
    {
     "data": {
      "text/html": [
       "<div>\n",
       "<style>\n",
       "    .dataframe thead tr:only-child th {\n",
       "        text-align: right;\n",
       "    }\n",
       "\n",
       "    .dataframe thead th {\n",
       "        text-align: left;\n",
       "    }\n",
       "\n",
       "    .dataframe tbody tr th {\n",
       "        vertical-align: top;\n",
       "    }\n",
       "</style>\n",
       "<table border=\"1\" class=\"dataframe\">\n",
       "  <thead>\n",
       "    <tr style=\"text-align: right;\">\n",
       "      <th></th>\n",
       "      <th>Oil Company</th>\n",
       "      <th>p-value</th>\n",
       "      <th>t-stats</th>\n",
       "    </tr>\n",
       "  </thead>\n",
       "  <tbody>\n",
       "    <tr>\n",
       "      <th>0</th>\n",
       "      <td>@MarathonPetroCo</td>\n",
       "      <td>1.320928e-13</td>\n",
       "      <td>-178.113946</td>\n",
       "    </tr>\n",
       "    <tr>\n",
       "      <th>1</th>\n",
       "      <td>@DevonEnergy</td>\n",
       "      <td>3.153527e-19</td>\n",
       "      <td>-158.706086</td>\n",
       "    </tr>\n",
       "    <tr>\n",
       "      <th>2</th>\n",
       "      <td>@OPECnews</td>\n",
       "      <td>2.089671e-16</td>\n",
       "      <td>-101.777974</td>\n",
       "    </tr>\n",
       "    <tr>\n",
       "      <th>3</th>\n",
       "      <td>@OXY_Petroleum</td>\n",
       "      <td>7.572373e-10</td>\n",
       "      <td>-275.305442</td>\n",
       "    </tr>\n",
       "    <tr>\n",
       "      <th>4</th>\n",
       "      <td>@ValeroEnergy</td>\n",
       "      <td>2.397432e-10</td>\n",
       "      <td>-170.817825</td>\n",
       "    </tr>\n",
       "    <tr>\n",
       "      <th>5</th>\n",
       "      <td>@Phillips66Co</td>\n",
       "      <td>2.964335e-09</td>\n",
       "      <td>-170.445909</td>\n",
       "    </tr>\n",
       "    <tr>\n",
       "      <th>6</th>\n",
       "      <td>@conocophillips</td>\n",
       "      <td>1.292795e-04</td>\n",
       "      <td>-83.504799</td>\n",
       "    </tr>\n",
       "  </tbody>\n",
       "</table>\n",
       "</div>"
      ],
      "text/plain": [
       "        Oil Company       p-value     t-stats\n",
       "0  @MarathonPetroCo  1.320928e-13 -178.113946\n",
       "1      @DevonEnergy  3.153527e-19 -158.706086\n",
       "2         @OPECnews  2.089671e-16 -101.777974\n",
       "3    @OXY_Petroleum  7.572373e-10 -275.305442\n",
       "4     @ValeroEnergy  2.397432e-10 -170.817825\n",
       "5     @Phillips66Co  2.964335e-09 -170.445909\n",
       "6   @conocophillips  1.292795e-04  -83.504799"
      ]
     },
     "execution_count": 3,
     "metadata": {},
     "output_type": "execute_result"
    }
   ],
   "source": [
    "stat_t_test = []\n",
    "\n",
    "for x in sentiment_stock_data[\"Media Sources\"].unique():\n",
    "    df = sentiment_stock_data[sentiment_stock_data['Media Sources'] == x]\n",
    "    s1 = df['Tweet Polarity']\n",
    "    s2 = df['Price']\n",
    "    (t_stat, p) = stats.ttest_ind(s1, s2, equal_var=False)\n",
    "    stat_t_test.append({'p-value': p,\n",
    "                        't-stats': t_stat,\n",
    "                        'Oil Company': x})\n",
    "\n",
    "stat_final_df = pd.DataFrame(stat_t_test)\n",
    "stat_final_df"
   ]
  },
  {
   "cell_type": "markdown",
   "metadata": {},
   "source": [
    "### Coverting exponential to decimal p-values and concluding t-test result."
   ]
  },
  {
   "cell_type": "code",
   "execution_count": 5,
   "metadata": {},
   "outputs": [
    {
     "data": {
      "text/html": [
       "<div>\n",
       "<style>\n",
       "    .dataframe thead tr:only-child th {\n",
       "        text-align: right;\n",
       "    }\n",
       "\n",
       "    .dataframe thead th {\n",
       "        text-align: left;\n",
       "    }\n",
       "\n",
       "    .dataframe tbody tr th {\n",
       "        vertical-align: top;\n",
       "    }\n",
       "</style>\n",
       "<table border=\"1\" class=\"dataframe\">\n",
       "  <thead>\n",
       "    <tr style=\"text-align: right;\">\n",
       "      <th></th>\n",
       "      <th>Oil Company</th>\n",
       "      <th>p-value</th>\n",
       "      <th>t-stats</th>\n",
       "      <th>P-Value_Decimal</th>\n",
       "      <th>Conclusion</th>\n",
       "    </tr>\n",
       "  </thead>\n",
       "  <tbody>\n",
       "    <tr>\n",
       "      <th>0</th>\n",
       "      <td>@MarathonPetroCo</td>\n",
       "      <td>1.320928e-13</td>\n",
       "      <td>-178.113946</td>\n",
       "      <td>0.00000000000013209</td>\n",
       "      <td>Very strong evidence against the null hypothes...</td>\n",
       "    </tr>\n",
       "    <tr>\n",
       "      <th>1</th>\n",
       "      <td>@DevonEnergy</td>\n",
       "      <td>3.153527e-19</td>\n",
       "      <td>-158.706086</td>\n",
       "      <td>0.00000000000000000</td>\n",
       "      <td>Very strong evidence against the null hypothes...</td>\n",
       "    </tr>\n",
       "    <tr>\n",
       "      <th>2</th>\n",
       "      <td>@OPECnews</td>\n",
       "      <td>2.089671e-16</td>\n",
       "      <td>-101.777974</td>\n",
       "      <td>0.00000000000000021</td>\n",
       "      <td>Very strong evidence against the null hypothes...</td>\n",
       "    </tr>\n",
       "    <tr>\n",
       "      <th>3</th>\n",
       "      <td>@OXY_Petroleum</td>\n",
       "      <td>7.572373e-10</td>\n",
       "      <td>-275.305442</td>\n",
       "      <td>0.00000000075723731</td>\n",
       "      <td>Very strong evidence against the null hypothes...</td>\n",
       "    </tr>\n",
       "    <tr>\n",
       "      <th>4</th>\n",
       "      <td>@ValeroEnergy</td>\n",
       "      <td>2.397432e-10</td>\n",
       "      <td>-170.817825</td>\n",
       "      <td>0.00000000023974325</td>\n",
       "      <td>Very strong evidence against the null hypothes...</td>\n",
       "    </tr>\n",
       "    <tr>\n",
       "      <th>5</th>\n",
       "      <td>@Phillips66Co</td>\n",
       "      <td>2.964335e-09</td>\n",
       "      <td>-170.445909</td>\n",
       "      <td>0.00000000296433519</td>\n",
       "      <td>Very strong evidence against the null hypothes...</td>\n",
       "    </tr>\n",
       "    <tr>\n",
       "      <th>6</th>\n",
       "      <td>@conocophillips</td>\n",
       "      <td>1.292795e-04</td>\n",
       "      <td>-83.504799</td>\n",
       "      <td>0.00012927953930928</td>\n",
       "      <td>Very strong evidence against the null hypothes...</td>\n",
       "    </tr>\n",
       "  </tbody>\n",
       "</table>\n",
       "</div>"
      ],
      "text/plain": [
       "        Oil Company       p-value     t-stats      P-Value_Decimal  \\\n",
       "0  @MarathonPetroCo  1.320928e-13 -178.113946  0.00000000000013209   \n",
       "1      @DevonEnergy  3.153527e-19 -158.706086  0.00000000000000000   \n",
       "2         @OPECnews  2.089671e-16 -101.777974  0.00000000000000021   \n",
       "3    @OXY_Petroleum  7.572373e-10 -275.305442  0.00000000075723731   \n",
       "4     @ValeroEnergy  2.397432e-10 -170.817825  0.00000000023974325   \n",
       "5     @Phillips66Co  2.964335e-09 -170.445909  0.00000000296433519   \n",
       "6   @conocophillips  1.292795e-04  -83.504799  0.00012927953930928   \n",
       "\n",
       "                                          Conclusion  \n",
       "0  Very strong evidence against the null hypothes...  \n",
       "1  Very strong evidence against the null hypothes...  \n",
       "2  Very strong evidence against the null hypothes...  \n",
       "3  Very strong evidence against the null hypothes...  \n",
       "4  Very strong evidence against the null hypothes...  \n",
       "5  Very strong evidence against the null hypothes...  \n",
       "6  Very strong evidence against the null hypothes...  "
      ]
     },
     "execution_count": 5,
     "metadata": {},
     "output_type": "execute_result"
    }
   ],
   "source": [
    "stat_final_df['P-Value_Decimal'] = stat_final_df['p-value'].apply(lambda x: '%.17f' % x).values.tolist()\n",
    "\n",
    "for x in stat_final_df['P-Value_Decimal']:\n",
    "    if float(x) < 0.001:\n",
    "        stat_final_df['Conclusion'] = \"Very strong evidence against the null hypothesis!!\"\n",
    "    else:\n",
    "        stat_final_df['Conclusion'] = \"Moderate/No evidence against the null hypothesis!!\"\n",
    "stat_final_df"
   ]
  },
  {
   "cell_type": "markdown",
   "metadata": {
    "collapsed": true
   },
   "source": [
    "### Plot sample means (Tweet Polarity & Stock Price) with error bars:"
   ]
  },
  {
   "cell_type": "code",
   "execution_count": 17,
   "metadata": {},
   "outputs": [
    {
     "data": {
      "image/png": "[encoded data removed]",
      "text/plain": [
       "<matplotlib.figure.Figure at 0x1a17488898>"
      ]
     },
     "metadata": {},
     "output_type": "display_data"
    }
   ],
   "source": [
    "tick_labels = [\"Tweet Polarity\", \"Stock Price\"]\n",
    "\n",
    "means = [sentiment_stock_data['Tweet Polarity'].mean(), sentiment_stock_data['Price'].mean()]\n",
    "x_axis = np.arange(0, len(means))\n",
    "\n",
    "sem = [sentiment_stock_data['Tweet Polarity'].sem(), sentiment_stock_data['Price'].sem()]\n",
    "\n",
    "# Plot\n",
    "fig, ax = plt.subplots(figsize = (8,6))\n",
    "\n",
    "fig.suptitle(\"Error Bar of 'Tweet Polarity' & 'Stock Price'\",\n",
    "             fontsize=14, fontweight=\"bold\")\n",
    "\n",
    "ax.errorbar(x_axis, means, yerr=sem, fmt=\"o\")\n",
    "\n",
    "ax.set_xlim(-0.5, 2.0)\n",
    "ax.set_ylim(0.5, 70)\n",
    "\n",
    "ax.set_xticklabels(tick_labels, fontsize = 14)\n",
    "ax.set_xticks([0, 1])\n",
    "\n",
    "ax.set_ylabel(\"Value of 'Tweet Polarity' & 'Stock Price' Means\", fontsize = 14)\n",
    "\n",
    "plt.show()"
   ]
  },
  {
   "cell_type": "code",
   "execution_count": null,
   "metadata": {
    "collapsed": true
   },
   "outputs": [],
   "source": []
  }
 ],
 "metadata": {
  "kernelspec": {
   "display_name": "Python 3",
   "language": "python",
   "name": "python3"
  },
  "language_info": {
   "codemirror_mode": {
    "name": "ipython",
    "version": 3
   },
   "file_extension": ".py",
   "mimetype": "text/x-python",
   "name": "python",
   "nbconvert_exporter": "python",
   "pygments_lexer": "ipython3",
   "version": "3.6.2"
  }
 },
 "nbformat": 4,
 "nbformat_minor": 2
}
